{
 "cells": [
  {
   "cell_type": "markdown",
   "id": "72033432",
   "metadata": {},
   "source": [
    "## Overview of the Analysis\n",
    "The purpose of this analysis was to build a machine learning model to predict the risk of defaulting on loans based on financial information provided. The data included features that could be used to predict whether a loan would be healthy (0) or high-risk (1).\n",
    "\n",
    "The stages of the machine learning process involved data preprocessing, separating the data into labels and features, splitting the data into training and testing sets, fitting the logistic regression model, and evaluating its performance using a confusion matrix and classification report.\n",
    "\n",
    "## Results\n",
    "Accuracy Score: 99.24%\n",
    "\n",
    "Precision for Healthy Loan (Class 0): 100%\n",
    "\n",
    "Precision for High-Risk Loan (Class 1): 87%\n",
    "\n",
    "Recall for Healthy Loan (Class 0): 100%\n",
    "\n",
    "Recall for High-Risk Loan (Class 1): 89%\n",
    "\n",
    "F1-score for Healthy Loan (Class 0): 100%\n",
    "\n",
    "F1-score for High-Risk Loan (Class 1): 88%\n",
    "\n",
    "## Summary\n",
    "The logistic regression model demonstrates exceptional performance in predicting credit risk. With an accuracy score of 99.24%, the model correctly classifies loans as healthy or high-risk in almost all cases. The precision and recall scores further validate the model's effectiveness, particularly in correctly identifying high-risk loans (precision: 87%, recall: 89%).\n",
    "\n",
    "Considering the high precision and recall scores, the model is highly recommended for use by the company. Its ability to accurately predict high-risk loans while minimizing false alarms makes it a valuable tool for risk assessment and decision-making.\n",
    "\n",
    "## Conclusion\n",
    "In conclusion, the logistic regression model proves to be an effective solution for credit risk analysis. It has high accuracy, precision, and recall scores indicating high performance, making it suitable for use in the company's loan approval process."
   ]
  }
 ],
 "metadata": {
  "kernelspec": {
   "display_name": "Python 3 (ipykernel)",
   "language": "python",
   "name": "python3"
  },
  "language_info": {
   "codemirror_mode": {
    "name": "ipython",
    "version": 3
   },
   "file_extension": ".py",
   "mimetype": "text/x-python",
   "name": "python",
   "nbconvert_exporter": "python",
   "pygments_lexer": "ipython3",
   "version": "3.11.7"
  }
 },
 "nbformat": 4,
 "nbformat_minor": 5
}
